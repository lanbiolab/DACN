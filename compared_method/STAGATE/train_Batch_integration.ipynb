{
 "cells": [
  {
   "cell_type": "code",
   "execution_count": 1,
   "id": "263b7207-9771-4a05-bb30-771892a89136",
   "metadata": {},
   "outputs": [],
   "source": [
    "import os\n",
    "import numpy as np\n",
    "import pandas as pd\n",
    "import scanpy as sc\n",
    "import STAGATE\n",
    "import matplotlib.pyplot as plt\n",
    "import seaborn as sns\n",
    "\n",
    "import warnings\n",
    "warnings.filterwarnings('ignore')\n",
    "\n",
    "from pathlib import Path\n",
    "from tqdm import tqdm"
   ]
  },
  {
   "cell_type": "code",
   "execution_count": 2,
   "id": "4333475f-a24a-4b0a-bd06-e00f3a5a2915",
   "metadata": {},
   "outputs": [],
   "source": [
    "data_root = Path('../data/BaristaSeq/')\n",
    "\n",
    "proj_list = [\n",
    "    'Slice_1_removed.h5ad', 'Slice_2_removed.h5ad', 'Slice_3_removed.h5ad'\n",
    "]"
   ]
  },
  {
   "cell_type": "code",
   "execution_count": 3,
   "id": "b3774342-0bf6-437a-88d4-d4f7830cf2c9",
   "metadata": {},
   "outputs": [
    {
     "name": "stderr",
     "output_type": "stream",
     "text": [
      "100%|█████████████████████████████████████████████████████████████████████████████████████████████████████████████████████████████████████████████████████████████████████████████████████████████| 3/3 [00:00<00:00,  8.34it/s]\n"
     ]
    }
   ],
   "source": [
    "for proj_name in tqdm(proj_list):\n",
    "    adata_tmp = sc.read(data_root / proj_name)\n",
    "    adata_tmp.var_names_make_unique()\n",
    "\n",
    "    adata_tmp.obs['batch_name'] = proj_name\n",
    "    \n",
    "    if proj_name == proj_list[0]:\n",
    "        adata = adata_tmp\n",
    "        name = proj_name\n",
    "        adata.obs['proj_name'] = proj_name\n",
    "    else:\n",
    "        var_names = adata.var_names.intersection(adata_tmp.var_names)\n",
    "        adata = adata[:, var_names]\n",
    "        adata_tmp = adata_tmp[:, var_names]\n",
    "        adata_tmp.obs['proj_name'] = proj_name\n",
    "    \n",
    "        adata = adata.concatenate(adata_tmp)\n",
    "        name = name + '_' + proj_name"
   ]
  },
  {
   "cell_type": "code",
   "execution_count": 4,
   "id": "79d316d1-a892-4864-856b-071c8fbfc14e",
   "metadata": {},
   "outputs": [
    {
     "name": "stdout",
     "output_type": "stream",
     "text": [
      "------Calculating spatial graph...\n",
      "The graph contains 2001314 edges, 5257 cells.\n",
      "380.6951 neighbors per cell on average.\n"
     ]
    },
    {
     "data": {
      "image/png": "[encoded data removed]",
      "text/plain": [
       "<Figure size 300x200 with 1 Axes>"
      ]
     },
     "metadata": {},
     "output_type": "display_data"
    }
   ],
   "source": [
    "STAGATE.Cal_Spatial_Net(adata, rad_cutoff=150)\n",
    "STAGATE.Stats_Spatial_Net(adata)"
   ]
  },
  {
   "cell_type": "code",
   "execution_count": 5,
   "id": "8962e080-f303-47b2-80f2-b010561e1e62",
   "metadata": {},
   "outputs": [
    {
     "name": "stdout",
     "output_type": "stream",
     "text": [
      "Size of Input:  (5257, 79)\n",
      "WARNING:tensorflow:From /data/hgh/anaconda3/envs/STAGATE/lib/python3.7/site-packages/tensorflow_core/python/ops/math_grad.py:1375: where (from tensorflow.python.ops.array_ops) is deprecated and will be removed in a future version.\n",
      "Instructions for updating:\n",
      "Use tf.where in 2.0, which has the same broadcast rule as np.where\n"
     ]
    },
    {
     "name": "stderr",
     "output_type": "stream",
     "text": [
      "2025-03-20 13:52:06.649550: I tensorflow/core/platform/cpu_feature_guard.cc:142] Your CPU supports instructions that this TensorFlow binary was not compiled to use: SSE4.1 SSE4.2 AVX AVX2 AVX512F FMA\n",
      "2025-03-20 13:52:06.977648: I tensorflow/core/platform/profile_utils/cpu_utils.cc:94] CPU Frequency: 2400000000 Hz\n",
      "2025-03-20 13:52:06.993959: I tensorflow/compiler/xla/service/service.cc:168] XLA service 0x55d84bf55630 initialized for platform Host (this does not guarantee that XLA will be used). Devices:\n",
      "2025-03-20 13:52:07.005524: I tensorflow/compiler/xla/service/service.cc:176]   StreamExecutor device (0): Host, Default Version\n",
      "2025-03-20 13:52:07.034464: I tensorflow/stream_executor/platform/default/dso_loader.cc:44] Successfully opened dynamic library libcuda.so.1\n",
      "2025-03-20 13:52:07.400023: I tensorflow/compiler/xla/service/service.cc:168] XLA service 0x55d84c9bff10 initialized for platform CUDA (this does not guarantee that XLA will be used). Devices:\n",
      "2025-03-20 13:52:07.400103: I tensorflow/compiler/xla/service/service.cc:176]   StreamExecutor device (0): Tesla V100-PCIE-32GB, Compute Capability 7.0\n",
      "2025-03-20 13:52:07.400122: I tensorflow/compiler/xla/service/service.cc:176]   StreamExecutor device (1): Tesla V100-PCIE-32GB, Compute Capability 7.0\n",
      "2025-03-20 13:52:07.407397: I tensorflow/core/common_runtime/gpu/gpu_device.cc:1618] Found device 0 with properties: \n",
      "name: Tesla V100-PCIE-32GB major: 7 minor: 0 memoryClockRate(GHz): 1.38\n",
      "pciBusID: 0000:9b:00.0\n",
      "2025-03-20 13:52:07.408816: I tensorflow/core/common_runtime/gpu/gpu_device.cc:1618] Found device 1 with properties: \n",
      "name: Tesla V100-PCIE-32GB major: 7 minor: 0 memoryClockRate(GHz): 1.38\n",
      "pciBusID: 0000:c8:00.0\n",
      "2025-03-20 13:52:07.458666: I tensorflow/stream_executor/platform/default/dso_loader.cc:44] Successfully opened dynamic library libcudart.so.10.0\n",
      "2025-03-20 13:52:07.666357: I tensorflow/stream_executor/platform/default/dso_loader.cc:44] Successfully opened dynamic library libcublas.so.10.0\n",
      "2025-03-20 13:52:07.735432: I tensorflow/stream_executor/platform/default/dso_loader.cc:44] Successfully opened dynamic library libcufft.so.10.0\n",
      "2025-03-20 13:52:07.791250: I tensorflow/stream_executor/platform/default/dso_loader.cc:44] Successfully opened dynamic library libcurand.so.10.0\n",
      "2025-03-20 13:52:08.019118: I tensorflow/stream_executor/platform/default/dso_loader.cc:44] Successfully opened dynamic library libcusolver.so.10.0\n",
      "2025-03-20 13:52:08.151836: I tensorflow/stream_executor/platform/default/dso_loader.cc:44] Successfully opened dynamic library libcusparse.so.10.0\n",
      "2025-03-20 13:52:08.506523: I tensorflow/stream_executor/platform/default/dso_loader.cc:44] Successfully opened dynamic library libcudnn.so.7\n",
      "2025-03-20 13:52:08.515299: I tensorflow/core/common_runtime/gpu/gpu_device.cc:1746] Adding visible gpu devices: 0, 1\n",
      "2025-03-20 13:52:08.524990: I tensorflow/stream_executor/platform/default/dso_loader.cc:44] Successfully opened dynamic library libcudart.so.10.0\n",
      "2025-03-20 13:52:08.553981: I tensorflow/core/common_runtime/gpu/gpu_device.cc:1159] Device interconnect StreamExecutor with strength 1 edge matrix:\n",
      "2025-03-20 13:52:08.554076: I tensorflow/core/common_runtime/gpu/gpu_device.cc:1165]      0 1 \n",
      "2025-03-20 13:52:08.554094: I tensorflow/core/common_runtime/gpu/gpu_device.cc:1178] 0:   N Y \n",
      "2025-03-20 13:52:08.554104: I tensorflow/core/common_runtime/gpu/gpu_device.cc:1178] 1:   Y N \n",
      "2025-03-20 13:52:08.562074: I tensorflow/core/common_runtime/gpu/gpu_device.cc:1304] Created TensorFlow device (/job:localhost/replica:0/task:0/device:GPU:0 with 30586 MB memory) -> physical GPU (device: 0, name: Tesla V100-PCIE-32GB, pci bus id: 0000:9b:00.0, compute capability: 7.0)\n",
      "2025-03-20 13:52:08.563938: I tensorflow/core/common_runtime/gpu/gpu_device.cc:1304] Created TensorFlow device (/job:localhost/replica:0/task:0/device:GPU:1 with 30586 MB memory) -> physical GPU (device: 1, name: Tesla V100-PCIE-32GB, pci bus id: 0000:c8:00.0, compute capability: 7.0)\n",
      "  0%|                                                                                                                                                                                                   | 0/500 [00:00<?, ?it/s]2025-03-20 13:52:17.636354: I tensorflow/stream_executor/platform/default/dso_loader.cc:44] Successfully opened dynamic library libcublas.so.10.0\n",
      "100%|█████████████████████████████████████████████████████████████████████████████████████████████████████████████████████████████████████████████████████████████████████████████████████████| 500/500 [09:48<00:00,  1.18s/it]\n"
     ]
    }
   ],
   "source": [
    "adata = STAGATE.train_STAGATE(adata, alpha=0)"
   ]
  },
  {
   "cell_type": "code",
   "execution_count": 6,
   "id": "9713e86d-53ca-4b7e-b5f6-dc3fd9dc0f3d",
   "metadata": {},
   "outputs": [],
   "source": [
    "# output_dir1 = ('./feature')\n",
    "# if not os.path.exists(output_dir1):\n",
    "#     os.makedirs(output_dir1)\n",
    "# output_path = os.path.join(output_dir1, f\"batch.h5ad\")\n",
    "# adata.write_h5ad(output_path)"
   ]
  },
  {
   "cell_type": "code",
   "execution_count": null,
   "id": "8be4e065-8a18-40ba-9c2c-45ee113dac68",
   "metadata": {},
   "outputs": [],
   "source": []
  }
 ],
 "metadata": {
  "kernelspec": {
   "display_name": "Python [conda env:STAGATE]",
   "language": "python",
   "name": "conda-env-STAGATE-py"
  },
  "language_info": {
   "codemirror_mode": {
    "name": "ipython",
    "version": 3
   },
   "file_extension": ".py",
   "mimetype": "text/x-python",
   "name": "python",
   "nbconvert_exporter": "python",
   "pygments_lexer": "ipython3",
   "version": "3.7.12"
  }
 },
 "nbformat": 4,
 "nbformat_minor": 5
}
